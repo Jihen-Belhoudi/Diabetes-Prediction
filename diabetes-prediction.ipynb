{
 "cells": [
  {
   "cell_type": "code",
   "execution_count": 1,
   "id": "82b1cc47",
   "metadata": {
    "_cell_guid": "b1076dfc-b9ad-4769-8c92-a6c4dae69d19",
    "_uuid": "8f2839f25d086af736a60e9eeb907d3b93b6e0e5",
    "execution": {
     "iopub.execute_input": "2021-11-03T14:56:08.307874Z",
     "iopub.status.busy": "2021-11-03T14:56:08.307186Z",
     "iopub.status.idle": "2021-11-03T14:56:08.317796Z",
     "shell.execute_reply": "2021-11-03T14:56:08.317089Z",
     "shell.execute_reply.started": "2021-11-03T14:27:30.837209Z"
    },
    "papermill": {
     "duration": 0.055524,
     "end_time": "2021-11-03T14:56:08.317968",
     "exception": false,
     "start_time": "2021-11-03T14:56:08.262444",
     "status": "completed"
    },
    "tags": []
   },
   "outputs": [
    {
     "name": "stdout",
     "output_type": "stream",
     "text": [
      "/kaggle/input/diabetes-data-set/diabetes.csv\n"
     ]
    }
   ],
   "source": [
    "# This Python 3 environment comes with many helpful analytics libraries installed\n",
    "# It is defined by the kaggle/python Docker image: https://github.com/kaggle/docker-python\n",
    "# For example, here's several helpful packages to load\n",
    "\n",
    "import numpy as np # linear algebra\n",
    "import pandas as pd # data processing, CSV file I/O (e.g. pd.read_csv)\n",
    "\n",
    "# Input data files are available in the read-only \"../input/\" directory\n",
    "# For example, running this (by clicking run or pressing Shift+Enter) will list all files under the input directory\n",
    "\n",
    "import os\n",
    "for dirname, _, filenames in os.walk('/kaggle/input'):\n",
    "    for filename in filenames:\n",
    "        print(os.path.join(dirname, filename))\n",
    "\n",
    "# You can write up to 20GB to the current directory (/kaggle/working/) that gets preserved as output when you create a version using \"Save & Run All\" \n",
    "# You can also write temporary files to /kaggle/temp/, but they won't be saved outside of the current session"
   ]
  },
  {
   "cell_type": "code",
   "execution_count": 2,
   "id": "eaea0a5d",
   "metadata": {
    "execution": {
     "iopub.execute_input": "2021-11-03T14:56:08.378141Z",
     "iopub.status.busy": "2021-11-03T14:56:08.377508Z",
     "iopub.status.idle": "2021-11-03T14:56:09.683304Z",
     "shell.execute_reply": "2021-11-03T14:56:09.683834Z",
     "shell.execute_reply.started": "2021-11-03T14:51:41.679746Z"
    },
    "papermill": {
     "duration": 1.336882,
     "end_time": "2021-11-03T14:56:09.684029",
     "exception": false,
     "start_time": "2021-11-03T14:56:08.347147",
     "status": "completed"
    },
    "tags": []
   },
   "outputs": [],
   "source": [
    "import numpy as np\n",
    "import pandas as pd\n",
    "from sklearn.preprocessing import StandardScaler\n",
    "from sklearn.model_selection import train_test_split\n",
    "from sklearn.svm import SVC\n",
    "from sklearn.metrics import accuracy_score\n",
    "import matplotlib.pyplot as plt\n",
    "import seaborn as sns\n",
    "from sklearn.model_selection import GridSearchCV\n",
    "from sklearn.neighbors import KNeighborsClassifier\n",
    "from sklearn import metrics\n",
    "from sklearn import tree\n",
    "from sklearn.tree import DecisionTreeClassifier\n",
    "from sklearn.tree import DecisionTreeRegressor"
   ]
  },
  {
   "cell_type": "code",
   "execution_count": 3,
   "id": "0c64d823",
   "metadata": {
    "execution": {
     "iopub.execute_input": "2021-11-03T14:56:09.743959Z",
     "iopub.status.busy": "2021-11-03T14:56:09.743344Z",
     "iopub.status.idle": "2021-11-03T14:56:09.764113Z",
     "shell.execute_reply": "2021-11-03T14:56:09.764637Z",
     "shell.execute_reply.started": "2021-11-03T14:27:57.390401Z"
    },
    "papermill": {
     "duration": 0.05246,
     "end_time": "2021-11-03T14:56:09.764826",
     "exception": false,
     "start_time": "2021-11-03T14:56:09.712366",
     "status": "completed"
    },
    "tags": []
   },
   "outputs": [],
   "source": [
    "# loading the diabetes dataset to a pandas DataFrame\n",
    "dataset = pd.read_csv('/kaggle/input/diabetes-data-set/diabetes.csv') "
   ]
  },
  {
   "cell_type": "code",
   "execution_count": 4,
   "id": "a75bc622",
   "metadata": {
    "execution": {
     "iopub.execute_input": "2021-11-03T14:56:09.825713Z",
     "iopub.status.busy": "2021-11-03T14:56:09.825063Z",
     "iopub.status.idle": "2021-11-03T14:56:09.844153Z",
     "shell.execute_reply": "2021-11-03T14:56:09.844668Z",
     "shell.execute_reply.started": "2021-11-03T14:29:15.580271Z"
    },
    "papermill": {
     "duration": 0.051179,
     "end_time": "2021-11-03T14:56:09.844854",
     "exception": false,
     "start_time": "2021-11-03T14:56:09.793675",
     "status": "completed"
    },
    "tags": []
   },
   "outputs": [
    {
     "data": {
      "text/html": [
       "<div>\n",
       "<style scoped>\n",
       "    .dataframe tbody tr th:only-of-type {\n",
       "        vertical-align: middle;\n",
       "    }\n",
       "\n",
       "    .dataframe tbody tr th {\n",
       "        vertical-align: top;\n",
       "    }\n",
       "\n",
       "    .dataframe thead th {\n",
       "        text-align: right;\n",
       "    }\n",
       "</style>\n",
       "<table border=\"1\" class=\"dataframe\">\n",
       "  <thead>\n",
       "    <tr style=\"text-align: right;\">\n",
       "      <th></th>\n",
       "      <th>Pregnancies</th>\n",
       "      <th>Glucose</th>\n",
       "      <th>BloodPressure</th>\n",
       "      <th>SkinThickness</th>\n",
       "      <th>Insulin</th>\n",
       "      <th>BMI</th>\n",
       "      <th>DiabetesPedigreeFunction</th>\n",
       "      <th>Age</th>\n",
       "      <th>Outcome</th>\n",
       "    </tr>\n",
       "  </thead>\n",
       "  <tbody>\n",
       "    <tr>\n",
       "      <th>0</th>\n",
       "      <td>6</td>\n",
       "      <td>148</td>\n",
       "      <td>72</td>\n",
       "      <td>35</td>\n",
       "      <td>0</td>\n",
       "      <td>33.6</td>\n",
       "      <td>0.627</td>\n",
       "      <td>50</td>\n",
       "      <td>1</td>\n",
       "    </tr>\n",
       "    <tr>\n",
       "      <th>1</th>\n",
       "      <td>1</td>\n",
       "      <td>85</td>\n",
       "      <td>66</td>\n",
       "      <td>29</td>\n",
       "      <td>0</td>\n",
       "      <td>26.6</td>\n",
       "      <td>0.351</td>\n",
       "      <td>31</td>\n",
       "      <td>0</td>\n",
       "    </tr>\n",
       "    <tr>\n",
       "      <th>2</th>\n",
       "      <td>8</td>\n",
       "      <td>183</td>\n",
       "      <td>64</td>\n",
       "      <td>0</td>\n",
       "      <td>0</td>\n",
       "      <td>23.3</td>\n",
       "      <td>0.672</td>\n",
       "      <td>32</td>\n",
       "      <td>1</td>\n",
       "    </tr>\n",
       "    <tr>\n",
       "      <th>3</th>\n",
       "      <td>1</td>\n",
       "      <td>89</td>\n",
       "      <td>66</td>\n",
       "      <td>23</td>\n",
       "      <td>94</td>\n",
       "      <td>28.1</td>\n",
       "      <td>0.167</td>\n",
       "      <td>21</td>\n",
       "      <td>0</td>\n",
       "    </tr>\n",
       "    <tr>\n",
       "      <th>4</th>\n",
       "      <td>0</td>\n",
       "      <td>137</td>\n",
       "      <td>40</td>\n",
       "      <td>35</td>\n",
       "      <td>168</td>\n",
       "      <td>43.1</td>\n",
       "      <td>2.288</td>\n",
       "      <td>33</td>\n",
       "      <td>1</td>\n",
       "    </tr>\n",
       "  </tbody>\n",
       "</table>\n",
       "</div>"
      ],
      "text/plain": [
       "   Pregnancies  Glucose  BloodPressure  SkinThickness  Insulin   BMI  \\\n",
       "0            6      148             72             35        0  33.6   \n",
       "1            1       85             66             29        0  26.6   \n",
       "2            8      183             64              0        0  23.3   \n",
       "3            1       89             66             23       94  28.1   \n",
       "4            0      137             40             35      168  43.1   \n",
       "\n",
       "   DiabetesPedigreeFunction  Age  Outcome  \n",
       "0                     0.627   50        1  \n",
       "1                     0.351   31        0  \n",
       "2                     0.672   32        1  \n",
       "3                     0.167   21        0  \n",
       "4                     2.288   33        1  "
      ]
     },
     "execution_count": 4,
     "metadata": {},
     "output_type": "execute_result"
    }
   ],
   "source": [
    "dataset.head()"
   ]
  },
  {
   "cell_type": "code",
   "execution_count": 5,
   "id": "09461361",
   "metadata": {
    "execution": {
     "iopub.execute_input": "2021-11-03T14:56:09.904957Z",
     "iopub.status.busy": "2021-11-03T14:56:09.904353Z",
     "iopub.status.idle": "2021-11-03T14:56:09.908499Z",
     "shell.execute_reply": "2021-11-03T14:56:09.909088Z",
     "shell.execute_reply.started": "2021-11-03T14:29:46.149480Z"
    },
    "papermill": {
     "duration": 0.035799,
     "end_time": "2021-11-03T14:56:09.909251",
     "exception": false,
     "start_time": "2021-11-03T14:56:09.873452",
     "status": "completed"
    },
    "tags": []
   },
   "outputs": [
    {
     "data": {
      "text/plain": [
       "(768, 9)"
      ]
     },
     "execution_count": 5,
     "metadata": {},
     "output_type": "execute_result"
    }
   ],
   "source": [
    "dataset.shape"
   ]
  },
  {
   "cell_type": "code",
   "execution_count": 6,
   "id": "37dbf944",
   "metadata": {
    "execution": {
     "iopub.execute_input": "2021-11-03T14:56:09.976047Z",
     "iopub.status.busy": "2021-11-03T14:56:09.975393Z",
     "iopub.status.idle": "2021-11-03T14:56:10.010655Z",
     "shell.execute_reply": "2021-11-03T14:56:10.011216Z",
     "shell.execute_reply.started": "2021-11-03T14:30:20.389038Z"
    },
    "papermill": {
     "duration": 0.073352,
     "end_time": "2021-11-03T14:56:10.011394",
     "exception": false,
     "start_time": "2021-11-03T14:56:09.938042",
     "status": "completed"
    },
    "tags": []
   },
   "outputs": [
    {
     "data": {
      "text/html": [
       "<div>\n",
       "<style scoped>\n",
       "    .dataframe tbody tr th:only-of-type {\n",
       "        vertical-align: middle;\n",
       "    }\n",
       "\n",
       "    .dataframe tbody tr th {\n",
       "        vertical-align: top;\n",
       "    }\n",
       "\n",
       "    .dataframe thead th {\n",
       "        text-align: right;\n",
       "    }\n",
       "</style>\n",
       "<table border=\"1\" class=\"dataframe\">\n",
       "  <thead>\n",
       "    <tr style=\"text-align: right;\">\n",
       "      <th></th>\n",
       "      <th>Pregnancies</th>\n",
       "      <th>Glucose</th>\n",
       "      <th>BloodPressure</th>\n",
       "      <th>SkinThickness</th>\n",
       "      <th>Insulin</th>\n",
       "      <th>BMI</th>\n",
       "      <th>DiabetesPedigreeFunction</th>\n",
       "      <th>Age</th>\n",
       "      <th>Outcome</th>\n",
       "    </tr>\n",
       "  </thead>\n",
       "  <tbody>\n",
       "    <tr>\n",
       "      <th>count</th>\n",
       "      <td>768.000000</td>\n",
       "      <td>768.000000</td>\n",
       "      <td>768.000000</td>\n",
       "      <td>768.000000</td>\n",
       "      <td>768.000000</td>\n",
       "      <td>768.000000</td>\n",
       "      <td>768.000000</td>\n",
       "      <td>768.000000</td>\n",
       "      <td>768.000000</td>\n",
       "    </tr>\n",
       "    <tr>\n",
       "      <th>mean</th>\n",
       "      <td>3.845052</td>\n",
       "      <td>120.894531</td>\n",
       "      <td>69.105469</td>\n",
       "      <td>20.536458</td>\n",
       "      <td>79.799479</td>\n",
       "      <td>31.992578</td>\n",
       "      <td>0.471876</td>\n",
       "      <td>33.240885</td>\n",
       "      <td>0.348958</td>\n",
       "    </tr>\n",
       "    <tr>\n",
       "      <th>std</th>\n",
       "      <td>3.369578</td>\n",
       "      <td>31.972618</td>\n",
       "      <td>19.355807</td>\n",
       "      <td>15.952218</td>\n",
       "      <td>115.244002</td>\n",
       "      <td>7.884160</td>\n",
       "      <td>0.331329</td>\n",
       "      <td>11.760232</td>\n",
       "      <td>0.476951</td>\n",
       "    </tr>\n",
       "    <tr>\n",
       "      <th>min</th>\n",
       "      <td>0.000000</td>\n",
       "      <td>0.000000</td>\n",
       "      <td>0.000000</td>\n",
       "      <td>0.000000</td>\n",
       "      <td>0.000000</td>\n",
       "      <td>0.000000</td>\n",
       "      <td>0.078000</td>\n",
       "      <td>21.000000</td>\n",
       "      <td>0.000000</td>\n",
       "    </tr>\n",
       "    <tr>\n",
       "      <th>25%</th>\n",
       "      <td>1.000000</td>\n",
       "      <td>99.000000</td>\n",
       "      <td>62.000000</td>\n",
       "      <td>0.000000</td>\n",
       "      <td>0.000000</td>\n",
       "      <td>27.300000</td>\n",
       "      <td>0.243750</td>\n",
       "      <td>24.000000</td>\n",
       "      <td>0.000000</td>\n",
       "    </tr>\n",
       "    <tr>\n",
       "      <th>50%</th>\n",
       "      <td>3.000000</td>\n",
       "      <td>117.000000</td>\n",
       "      <td>72.000000</td>\n",
       "      <td>23.000000</td>\n",
       "      <td>30.500000</td>\n",
       "      <td>32.000000</td>\n",
       "      <td>0.372500</td>\n",
       "      <td>29.000000</td>\n",
       "      <td>0.000000</td>\n",
       "    </tr>\n",
       "    <tr>\n",
       "      <th>75%</th>\n",
       "      <td>6.000000</td>\n",
       "      <td>140.250000</td>\n",
       "      <td>80.000000</td>\n",
       "      <td>32.000000</td>\n",
       "      <td>127.250000</td>\n",
       "      <td>36.600000</td>\n",
       "      <td>0.626250</td>\n",
       "      <td>41.000000</td>\n",
       "      <td>1.000000</td>\n",
       "    </tr>\n",
       "    <tr>\n",
       "      <th>max</th>\n",
       "      <td>17.000000</td>\n",
       "      <td>199.000000</td>\n",
       "      <td>122.000000</td>\n",
       "      <td>99.000000</td>\n",
       "      <td>846.000000</td>\n",
       "      <td>67.100000</td>\n",
       "      <td>2.420000</td>\n",
       "      <td>81.000000</td>\n",
       "      <td>1.000000</td>\n",
       "    </tr>\n",
       "  </tbody>\n",
       "</table>\n",
       "</div>"
      ],
      "text/plain": [
       "       Pregnancies     Glucose  BloodPressure  SkinThickness     Insulin  \\\n",
       "count   768.000000  768.000000     768.000000     768.000000  768.000000   \n",
       "mean      3.845052  120.894531      69.105469      20.536458   79.799479   \n",
       "std       3.369578   31.972618      19.355807      15.952218  115.244002   \n",
       "min       0.000000    0.000000       0.000000       0.000000    0.000000   \n",
       "25%       1.000000   99.000000      62.000000       0.000000    0.000000   \n",
       "50%       3.000000  117.000000      72.000000      23.000000   30.500000   \n",
       "75%       6.000000  140.250000      80.000000      32.000000  127.250000   \n",
       "max      17.000000  199.000000     122.000000      99.000000  846.000000   \n",
       "\n",
       "              BMI  DiabetesPedigreeFunction         Age     Outcome  \n",
       "count  768.000000                768.000000  768.000000  768.000000  \n",
       "mean    31.992578                  0.471876   33.240885    0.348958  \n",
       "std      7.884160                  0.331329   11.760232    0.476951  \n",
       "min      0.000000                  0.078000   21.000000    0.000000  \n",
       "25%     27.300000                  0.243750   24.000000    0.000000  \n",
       "50%     32.000000                  0.372500   29.000000    0.000000  \n",
       "75%     36.600000                  0.626250   41.000000    1.000000  \n",
       "max     67.100000                  2.420000   81.000000    1.000000  "
      ]
     },
     "execution_count": 6,
     "metadata": {},
     "output_type": "execute_result"
    }
   ],
   "source": [
    "dataset.describe()"
   ]
  },
  {
   "cell_type": "code",
   "execution_count": 7,
   "id": "dc7ec3ee",
   "metadata": {
    "execution": {
     "iopub.execute_input": "2021-11-03T14:56:10.078947Z",
     "iopub.status.busy": "2021-11-03T14:56:10.078281Z",
     "iopub.status.idle": "2021-11-03T14:56:10.080805Z",
     "shell.execute_reply": "2021-11-03T14:56:10.081307Z",
     "shell.execute_reply.started": "2021-11-03T14:30:33.507694Z"
    },
    "papermill": {
     "duration": 0.040072,
     "end_time": "2021-11-03T14:56:10.081481",
     "exception": false,
     "start_time": "2021-11-03T14:56:10.041409",
     "status": "completed"
    },
    "tags": []
   },
   "outputs": [
    {
     "data": {
      "text/plain": [
       "0    500\n",
       "1    268\n",
       "Name: Outcome, dtype: int64"
      ]
     },
     "execution_count": 7,
     "metadata": {},
     "output_type": "execute_result"
    }
   ],
   "source": [
    "dataset['Outcome'].value_counts()"
   ]
  },
  {
   "cell_type": "code",
   "execution_count": 8,
   "id": "4006ad31",
   "metadata": {
    "execution": {
     "iopub.execute_input": "2021-11-03T14:56:10.144055Z",
     "iopub.status.busy": "2021-11-03T14:56:10.143445Z",
     "iopub.status.idle": "2021-11-03T14:56:10.149989Z",
     "shell.execute_reply": "2021-11-03T14:56:10.150580Z",
     "shell.execute_reply.started": "2021-11-03T14:31:01.393807Z"
    },
    "papermill": {
     "duration": 0.03914,
     "end_time": "2021-11-03T14:56:10.150738",
     "exception": false,
     "start_time": "2021-11-03T14:56:10.111598",
     "status": "completed"
    },
    "tags": []
   },
   "outputs": [
    {
     "data": {
      "text/plain": [
       "Pregnancies                 0\n",
       "Glucose                     0\n",
       "BloodPressure               0\n",
       "SkinThickness               0\n",
       "Insulin                     0\n",
       "BMI                         0\n",
       "DiabetesPedigreeFunction    0\n",
       "Age                         0\n",
       "Outcome                     0\n",
       "dtype: int64"
      ]
     },
     "execution_count": 8,
     "metadata": {},
     "output_type": "execute_result"
    }
   ],
   "source": [
    "dataset.isnull().sum()"
   ]
  },
  {
   "cell_type": "code",
   "execution_count": 9,
   "id": "a4786b62",
   "metadata": {
    "execution": {
     "iopub.execute_input": "2021-11-03T14:56:10.214668Z",
     "iopub.status.busy": "2021-11-03T14:56:10.214057Z",
     "iopub.status.idle": "2021-11-03T14:56:10.219557Z",
     "shell.execute_reply": "2021-11-03T14:56:10.220166Z",
     "shell.execute_reply.started": "2021-11-03T14:31:44.498741Z"
    },
    "papermill": {
     "duration": 0.038868,
     "end_time": "2021-11-03T14:56:10.220336",
     "exception": false,
     "start_time": "2021-11-03T14:56:10.181468",
     "status": "completed"
    },
    "tags": []
   },
   "outputs": [
    {
     "data": {
      "text/plain": [
       "Pregnancies                   int64\n",
       "Glucose                       int64\n",
       "BloodPressure                 int64\n",
       "SkinThickness                 int64\n",
       "Insulin                       int64\n",
       "BMI                         float64\n",
       "DiabetesPedigreeFunction    float64\n",
       "Age                           int64\n",
       "Outcome                       int64\n",
       "dtype: object"
      ]
     },
     "execution_count": 9,
     "metadata": {},
     "output_type": "execute_result"
    }
   ],
   "source": [
    "dataset.dtypes"
   ]
  },
  {
   "cell_type": "code",
   "execution_count": 10,
   "id": "b9ad4614",
   "metadata": {
    "execution": {
     "iopub.execute_input": "2021-11-03T14:56:10.284461Z",
     "iopub.status.busy": "2021-11-03T14:56:10.283851Z",
     "iopub.status.idle": "2021-11-03T14:56:10.288342Z",
     "shell.execute_reply": "2021-11-03T14:56:10.288925Z",
     "shell.execute_reply.started": "2021-11-03T14:31:55.378572Z"
    },
    "papermill": {
     "duration": 0.038421,
     "end_time": "2021-11-03T14:56:10.289126",
     "exception": false,
     "start_time": "2021-11-03T14:56:10.250705",
     "status": "completed"
    },
    "tags": []
   },
   "outputs": [
    {
     "data": {
      "text/plain": [
       "Index(['Pregnancies', 'Glucose', 'BloodPressure', 'SkinThickness', 'Insulin',\n",
       "       'BMI', 'DiabetesPedigreeFunction', 'Age', 'Outcome'],\n",
       "      dtype='object')"
      ]
     },
     "execution_count": 10,
     "metadata": {},
     "output_type": "execute_result"
    }
   ],
   "source": [
    "dataset.columns"
   ]
  },
  {
   "cell_type": "code",
   "execution_count": 11,
   "id": "dcaf3b4e",
   "metadata": {
    "execution": {
     "iopub.execute_input": "2021-11-03T14:56:10.354093Z",
     "iopub.status.busy": "2021-11-03T14:56:10.353482Z",
     "iopub.status.idle": "2021-11-03T14:56:10.589692Z",
     "shell.execute_reply": "2021-11-03T14:56:10.590197Z",
     "shell.execute_reply.started": "2021-11-03T14:33:17.311665Z"
    },
    "papermill": {
     "duration": 0.270272,
     "end_time": "2021-11-03T14:56:10.590382",
     "exception": false,
     "start_time": "2021-11-03T14:56:10.320110",
     "status": "completed"
    },
    "tags": []
   },
   "outputs": [
    {
     "data": {
      "image/png": "[encoded data removed]",
      "text/plain": [
       "<Figure size 864x576 with 1 Axes>"
      ]
     },
     "metadata": {
      "needs_background": "light"
     },
     "output_type": "display_data"
    }
   ],
   "source": [
    "fig = plt.figure(figsize = (12, 8))\n",
    "plt.hist(dataset['Pregnancies'], bins = 3)\n",
    "plt.show()"
   ]
  },
  {
   "cell_type": "code",
   "execution_count": 12,
   "id": "44402c31",
   "metadata": {
    "execution": {
     "iopub.execute_input": "2021-11-03T14:56:10.656728Z",
     "iopub.status.busy": "2021-11-03T14:56:10.656114Z",
     "iopub.status.idle": "2021-11-03T14:56:10.852975Z",
     "shell.execute_reply": "2021-11-03T14:56:10.852352Z",
     "shell.execute_reply.started": "2021-11-03T14:40:16.513841Z"
    },
    "papermill": {
     "duration": 0.230866,
     "end_time": "2021-11-03T14:56:10.853134",
     "exception": false,
     "start_time": "2021-11-03T14:56:10.622268",
     "status": "completed"
    },
    "tags": []
   },
   "outputs": [
    {
     "data": {
      "image/png": "[encoded data removed]",
      "text/plain": [
       "<Figure size 864x576 with 1 Axes>"
      ]
     },
     "metadata": {
      "needs_background": "light"
     },
     "output_type": "display_data"
    }
   ],
   "source": [
    "fig = plt.figure(figsize = (12, 8))\n",
    "plt.hist(dataset['Outcome'], bins = 3)\n",
    "plt.show()\n"
   ]
  },
  {
   "cell_type": "code",
   "execution_count": 13,
   "id": "678e4380",
   "metadata": {
    "execution": {
     "iopub.execute_input": "2021-11-03T14:56:10.924766Z",
     "iopub.status.busy": "2021-11-03T14:56:10.924135Z",
     "iopub.status.idle": "2021-11-03T14:56:11.158438Z",
     "shell.execute_reply": "2021-11-03T14:56:11.157799Z",
     "shell.execute_reply.started": "2021-11-03T14:34:39.604693Z"
    },
    "papermill": {
     "duration": 0.27311,
     "end_time": "2021-11-03T14:56:11.158577",
     "exception": false,
     "start_time": "2021-11-03T14:56:10.885467",
     "status": "completed"
    },
    "tags": []
   },
   "outputs": [
    {
     "data": {
      "image/png": "[encoded data removed]",
      "text/plain": [
       "<Figure size 864x576 with 1 Axes>"
      ]
     },
     "metadata": {
      "needs_background": "light"
     },
     "output_type": "display_data"
    }
   ],
   "source": [
    "fig = plt.figure(figsize = (12, 8))\n",
    "plt.scatter(dataset['Pregnancies'], dataset['Age'])\n",
    "plt.xlabel('Pregnent Woman')\n",
    "plt.ylabel('Age')\n",
    "plt.show()"
   ]
  },
  {
   "cell_type": "code",
   "execution_count": 14,
   "id": "b93b848d",
   "metadata": {
    "execution": {
     "iopub.execute_input": "2021-11-03T14:56:11.229193Z",
     "iopub.status.busy": "2021-11-03T14:56:11.228427Z",
     "iopub.status.idle": "2021-11-03T14:56:11.460859Z",
     "shell.execute_reply": "2021-11-03T14:56:11.461332Z",
     "shell.execute_reply.started": "2021-11-03T14:35:28.898874Z"
    },
    "papermill": {
     "duration": 0.269572,
     "end_time": "2021-11-03T14:56:11.461507",
     "exception": false,
     "start_time": "2021-11-03T14:56:11.191935",
     "status": "completed"
    },
    "tags": []
   },
   "outputs": [
    {
     "data": {
      "image/png": "[encoded data removed]",
      "text/plain": [
       "<Figure size 864x576 with 1 Axes>"
      ]
     },
     "metadata": {
      "needs_background": "light"
     },
     "output_type": "display_data"
    }
   ],
   "source": [
    "fig = plt.figure(figsize = (12, 8))\n",
    "plt.scatter(dataset['Glucose'], dataset['Age'])\n",
    "plt.xlabel('Glucose')\n",
    "plt.ylabel('Age')\n",
    "plt.show()"
   ]
  },
  {
   "cell_type": "code",
   "execution_count": 15,
   "id": "6c29969d",
   "metadata": {
    "execution": {
     "iopub.execute_input": "2021-11-03T14:56:11.535913Z",
     "iopub.status.busy": "2021-11-03T14:56:11.535268Z",
     "iopub.status.idle": "2021-11-03T14:56:11.906279Z",
     "shell.execute_reply": "2021-11-03T14:56:11.905644Z",
     "shell.execute_reply.started": "2021-11-03T14:39:35.081607Z"
    },
    "papermill": {
     "duration": 0.410349,
     "end_time": "2021-11-03T14:56:11.906427",
     "exception": false,
     "start_time": "2021-11-03T14:56:11.496078",
     "status": "completed"
    },
    "tags": []
   },
   "outputs": [
    {
     "data": {
      "text/plain": [
       "<AxesSubplot:>"
      ]
     },
     "execution_count": 15,
     "metadata": {},
     "output_type": "execute_result"
    },
    {
     "data": {
      "image/png": "[encoded data removed]",
      "text/plain": [
       "<Figure size 432x288 with 2 Axes>"
      ]
     },
     "metadata": {
      "needs_background": "light"
     },
     "output_type": "display_data"
    }
   ],
   "source": [
    "corr = dataset.corr()\n",
    "#print(corr)\n",
    "sns.heatmap(corr, \n",
    "         xticklabels=corr.columns, \n",
    "         yticklabels=corr.columns)"
   ]
  },
  {
   "cell_type": "code",
   "execution_count": 16,
   "id": "9438ab86",
   "metadata": {
    "execution": {
     "iopub.execute_input": "2021-11-03T14:56:11.984634Z",
     "iopub.status.busy": "2021-11-03T14:56:11.983928Z",
     "iopub.status.idle": "2021-11-03T14:56:11.985492Z",
     "shell.execute_reply": "2021-11-03T14:56:11.986066Z",
     "shell.execute_reply.started": "2021-11-03T14:36:18.592205Z"
    },
    "papermill": {
     "duration": 0.044256,
     "end_time": "2021-11-03T14:56:11.986228",
     "exception": false,
     "start_time": "2021-11-03T14:56:11.941972",
     "status": "completed"
    },
    "tags": []
   },
   "outputs": [],
   "source": [
    "# separating the data and labels\n",
    "X = dataset.drop(columns = 'Outcome', axis=1)\n",
    "Y = dataset['Outcome']"
   ]
  },
  {
   "cell_type": "code",
   "execution_count": 17,
   "id": "bc87d4fe",
   "metadata": {
    "execution": {
     "iopub.execute_input": "2021-11-03T14:56:12.060765Z",
     "iopub.status.busy": "2021-11-03T14:56:12.060143Z",
     "iopub.status.idle": "2021-11-03T14:56:12.069493Z",
     "shell.execute_reply": "2021-11-03T14:56:12.070056Z",
     "shell.execute_reply.started": "2021-11-03T14:42:37.244450Z"
    },
    "papermill": {
     "duration": 0.048119,
     "end_time": "2021-11-03T14:56:12.070218",
     "exception": false,
     "start_time": "2021-11-03T14:56:12.022099",
     "status": "completed"
    },
    "tags": []
   },
   "outputs": [],
   "source": [
    "X_train, X_test, Y_train, Y_test = train_test_split(X,Y, test_size = 0.2, stratify=Y, random_state=42)"
   ]
  },
  {
   "cell_type": "markdown",
   "id": "e59a7b6d",
   "metadata": {
    "papermill": {
     "duration": 0.035122,
     "end_time": "2021-11-03T14:56:12.140834",
     "exception": false,
     "start_time": "2021-11-03T14:56:12.105712",
     "status": "completed"
    },
    "tags": []
   },
   "source": [
    "# ****SVM****"
   ]
  },
  {
   "cell_type": "code",
   "execution_count": 18,
   "id": "a8adb02c",
   "metadata": {
    "execution": {
     "iopub.execute_input": "2021-11-03T14:56:12.215019Z",
     "iopub.status.busy": "2021-11-03T14:56:12.214386Z",
     "iopub.status.idle": "2021-11-03T14:56:15.096729Z",
     "shell.execute_reply": "2021-11-03T14:56:15.096190Z",
     "shell.execute_reply.started": "2021-11-03T14:44:47.088283Z"
    },
    "papermill": {
     "duration": 2.9206,
     "end_time": "2021-11-03T14:56:15.096878",
     "exception": false,
     "start_time": "2021-11-03T14:56:12.176278",
     "status": "completed"
    },
    "tags": []
   },
   "outputs": [
    {
     "name": "stdout",
     "output_type": "stream",
     "text": [
      "Fitting 5 folds for each of 25 candidates, totalling 125 fits\n",
      "[CV] C=0.1, gamma=1, kernel=rbf ......................................\n",
      "[CV] .......... C=0.1, gamma=1, kernel=rbf, score=0.650, total=   0.0s\n",
      "[CV] C=0.1, gamma=1, kernel=rbf ......................................\n",
      "[CV] .......... C=0.1, gamma=1, kernel=rbf, score=0.650, total=   0.0s\n",
      "[CV] C=0.1, gamma=1, kernel=rbf ......................................\n",
      "[CV] .......... C=0.1, gamma=1, kernel=rbf, score=0.650, total=   0.0s\n",
      "[CV] C=0.1, gamma=1, kernel=rbf ......................................\n",
      "[CV] .......... C=0.1, gamma=1, kernel=rbf, score=0.650, total=   0.0s\n",
      "[CV] C=0.1, gamma=1, kernel=rbf ......................................\n",
      "[CV] .......... C=0.1, gamma=1, kernel=rbf, score=0.656, total=   0.0s\n",
      "[CV] C=0.1, gamma=0.1, kernel=rbf ....................................\n",
      "[CV] ........ C=0.1, gamma=0.1, kernel=rbf, score=0.650, total=   0.0s\n",
      "[CV] C=0.1, gamma=0.1, kernel=rbf ....................................\n",
      "[CV] ........ C=0.1, gamma=0.1, kernel=rbf, score=0.650, total=   0.0s\n",
      "[CV] C=0.1, gamma=0.1, kernel=rbf ....................................\n",
      "[CV] ........ C=0.1, gamma=0.1, kernel=rbf, score=0.650, total=   0.0s\n",
      "[CV] C=0.1, gamma=0.1, kernel=rbf ....................................\n",
      "[CV] ........ C=0.1, gamma=0.1, kernel=rbf, score=0.650, total=   0.0s\n",
      "[CV] C=0.1, gamma=0.1, kernel=rbf ....................................\n",
      "[CV] ........ C=0.1, gamma=0.1, kernel=rbf, score=0.656, total=   0.0s\n",
      "[CV] C=0.1, gamma=0.01, kernel=rbf ...................................\n"
     ]
    },
    {
     "name": "stderr",
     "output_type": "stream",
     "text": [
      "[Parallel(n_jobs=1)]: Using backend SequentialBackend with 1 concurrent workers.\n",
      "[Parallel(n_jobs=1)]: Done   1 out of   1 | elapsed:    0.0s remaining:    0.0s\n",
      "[Parallel(n_jobs=1)]: Done   2 out of   2 | elapsed:    0.0s remaining:    0.0s\n"
     ]
    },
    {
     "name": "stdout",
     "output_type": "stream",
     "text": [
      "[CV] ....... C=0.1, gamma=0.01, kernel=rbf, score=0.650, total=   0.0s\n",
      "[CV] C=0.1, gamma=0.01, kernel=rbf ...................................\n",
      "[CV] ....... C=0.1, gamma=0.01, kernel=rbf, score=0.650, total=   0.0s\n",
      "[CV] C=0.1, gamma=0.01, kernel=rbf ...................................\n",
      "[CV] ....... C=0.1, gamma=0.01, kernel=rbf, score=0.650, total=   0.0s\n",
      "[CV] C=0.1, gamma=0.01, kernel=rbf ...................................\n",
      "[CV] ....... C=0.1, gamma=0.01, kernel=rbf, score=0.650, total=   0.0s\n",
      "[CV] C=0.1, gamma=0.01, kernel=rbf ...................................\n",
      "[CV] ....... C=0.1, gamma=0.01, kernel=rbf, score=0.656, total=   0.0s\n",
      "[CV] C=0.1, gamma=0.001, kernel=rbf ..................................\n",
      "[CV] ...... C=0.1, gamma=0.001, kernel=rbf, score=0.659, total=   0.0s\n",
      "[CV] C=0.1, gamma=0.001, kernel=rbf ..................................\n",
      "[CV] ...... C=0.1, gamma=0.001, kernel=rbf, score=0.667, total=   0.0s\n",
      "[CV] C=0.1, gamma=0.001, kernel=rbf ..................................\n",
      "[CV] ...... C=0.1, gamma=0.001, kernel=rbf, score=0.659, total=   0.0s\n",
      "[CV] C=0.1, gamma=0.001, kernel=rbf ..................................\n",
      "[CV] ...... C=0.1, gamma=0.001, kernel=rbf, score=0.634, total=   0.0s\n",
      "[CV] C=0.1, gamma=0.001, kernel=rbf ..................................\n",
      "[CV] ...... C=0.1, gamma=0.001, kernel=rbf, score=0.664, total=   0.0s\n",
      "[CV] C=0.1, gamma=0.0001, kernel=rbf .................................\n",
      "[CV] ..... C=0.1, gamma=0.0001, kernel=rbf, score=0.748, total=   0.0s\n",
      "[CV] C=0.1, gamma=0.0001, kernel=rbf .................................\n",
      "[CV] ..... C=0.1, gamma=0.0001, kernel=rbf, score=0.732, total=   0.0s\n",
      "[CV] C=0.1, gamma=0.0001, kernel=rbf .................................\n",
      "[CV] ..... C=0.1, gamma=0.0001, kernel=rbf, score=0.683, total=   0.0s\n",
      "[CV] C=0.1, gamma=0.0001, kernel=rbf .................................\n",
      "[CV] ..... C=0.1, gamma=0.0001, kernel=rbf, score=0.707, total=   0.0s\n",
      "[CV] C=0.1, gamma=0.0001, kernel=rbf .................................\n",
      "[CV] ..... C=0.1, gamma=0.0001, kernel=rbf, score=0.770, total=   0.0s\n",
      "[CV] C=1, gamma=1, kernel=rbf ........................................\n",
      "[CV] ............ C=1, gamma=1, kernel=rbf, score=0.650, total=   0.0s\n",
      "[CV] C=1, gamma=1, kernel=rbf ........................................\n",
      "[CV] ............ C=1, gamma=1, kernel=rbf, score=0.650, total=   0.0s\n",
      "[CV] C=1, gamma=1, kernel=rbf ........................................\n",
      "[CV] ............ C=1, gamma=1, kernel=rbf, score=0.650, total=   0.0s\n",
      "[CV] C=1, gamma=1, kernel=rbf ........................................\n",
      "[CV] ............ C=1, gamma=1, kernel=rbf, score=0.650, total=   0.0s\n",
      "[CV] C=1, gamma=1, kernel=rbf ........................................\n",
      "[CV] ............ C=1, gamma=1, kernel=rbf, score=0.656, total=   0.0s\n",
      "[CV] C=1, gamma=0.1, kernel=rbf ......................................\n",
      "[CV] .......... C=1, gamma=0.1, kernel=rbf, score=0.650, total=   0.0s\n",
      "[CV] C=1, gamma=0.1, kernel=rbf ......................................\n",
      "[CV] .......... C=1, gamma=0.1, kernel=rbf, score=0.650, total=   0.0s\n",
      "[CV] C=1, gamma=0.1, kernel=rbf ......................................\n",
      "[CV] .......... C=1, gamma=0.1, kernel=rbf, score=0.650, total=   0.0s\n",
      "[CV] C=1, gamma=0.1, kernel=rbf ......................................\n",
      "[CV] .......... C=1, gamma=0.1, kernel=rbf, score=0.650, total=   0.0s\n",
      "[CV] C=1, gamma=0.1, kernel=rbf ......................................\n",
      "[CV] .......... C=1, gamma=0.1, kernel=rbf, score=0.656, total=   0.0s\n",
      "[CV] C=1, gamma=0.01, kernel=rbf .....................................\n",
      "[CV] ......... C=1, gamma=0.01, kernel=rbf, score=0.675, total=   0.0s\n",
      "[CV] C=1, gamma=0.01, kernel=rbf .....................................\n",
      "[CV] ......... C=1, gamma=0.01, kernel=rbf, score=0.659, total=   0.0s\n",
      "[CV] C=1, gamma=0.01, kernel=rbf .....................................\n",
      "[CV] ......... C=1, gamma=0.01, kernel=rbf, score=0.699, total=   0.0s\n",
      "[CV] C=1, gamma=0.01, kernel=rbf .....................................\n",
      "[CV] ......... C=1, gamma=0.01, kernel=rbf, score=0.659, total=   0.0s\n",
      "[CV] C=1, gamma=0.01, kernel=rbf .....................................\n",
      "[CV] ......... C=1, gamma=0.01, kernel=rbf, score=0.648, total=   0.0s\n",
      "[CV] C=1, gamma=0.001, kernel=rbf ....................................\n",
      "[CV] ........ C=1, gamma=0.001, kernel=rbf, score=0.732, total=   0.0s\n",
      "[CV] C=1, gamma=0.001, kernel=rbf ....................................\n",
      "[CV] ........ C=1, gamma=0.001, kernel=rbf, score=0.756, total=   0.0s\n",
      "[CV] C=1, gamma=0.001, kernel=rbf ....................................\n",
      "[CV] ........ C=1, gamma=0.001, kernel=rbf, score=0.748, total=   0.0s\n",
      "[CV] C=1, gamma=0.001, kernel=rbf ....................................\n",
      "[CV] ........ C=1, gamma=0.001, kernel=rbf, score=0.715, total=   0.0s\n",
      "[CV] C=1, gamma=0.001, kernel=rbf ....................................\n",
      "[CV] ........ C=1, gamma=0.001, kernel=rbf, score=0.770, total=   0.0s\n",
      "[CV] C=1, gamma=0.0001, kernel=rbf ...................................\n",
      "[CV] ....... C=1, gamma=0.0001, kernel=rbf, score=0.764, total=   0.0s\n",
      "[CV] C=1, gamma=0.0001, kernel=rbf ...................................\n",
      "[CV] ....... C=1, gamma=0.0001, kernel=rbf, score=0.764, total=   0.0s\n",
      "[CV] C=1, gamma=0.0001, kernel=rbf ...................................\n",
      "[CV] ....... C=1, gamma=0.0001, kernel=rbf, score=0.732, total=   0.0s\n",
      "[CV] C=1, gamma=0.0001, kernel=rbf ...................................\n",
      "[CV] ....... C=1, gamma=0.0001, kernel=rbf, score=0.756, total=   0.0s\n",
      "[CV] C=1, gamma=0.0001, kernel=rbf ...................................\n",
      "[CV] ....... C=1, gamma=0.0001, kernel=rbf, score=0.820, total=   0.0s\n",
      "[CV] C=10, gamma=1, kernel=rbf .......................................\n",
      "[CV] ........... C=10, gamma=1, kernel=rbf, score=0.650, total=   0.0s\n",
      "[CV] C=10, gamma=1, kernel=rbf .......................................\n",
      "[CV] ........... C=10, gamma=1, kernel=rbf, score=0.650, total=   0.0s\n",
      "[CV] C=10, gamma=1, kernel=rbf .......................................\n",
      "[CV] ........... C=10, gamma=1, kernel=rbf, score=0.650, total=   0.0s\n",
      "[CV] C=10, gamma=1, kernel=rbf .......................................\n",
      "[CV] ........... C=10, gamma=1, kernel=rbf, score=0.650, total=   0.0s\n",
      "[CV] C=10, gamma=1, kernel=rbf .......................................\n",
      "[CV] ........... C=10, gamma=1, kernel=rbf, score=0.656, total=   0.0s\n",
      "[CV] C=10, gamma=0.1, kernel=rbf .....................................\n",
      "[CV] ......... C=10, gamma=0.1, kernel=rbf, score=0.650, total=   0.0s\n",
      "[CV] C=10, gamma=0.1, kernel=rbf .....................................\n",
      "[CV] ......... C=10, gamma=0.1, kernel=rbf, score=0.650, total=   0.0s\n",
      "[CV] C=10, gamma=0.1, kernel=rbf .....................................\n",
      "[CV] ......... C=10, gamma=0.1, kernel=rbf, score=0.650, total=   0.0s\n",
      "[CV] C=10, gamma=0.1, kernel=rbf .....................................\n",
      "[CV] ......... C=10, gamma=0.1, kernel=rbf, score=0.650, total=   0.0s\n",
      "[CV] C=10, gamma=0.1, kernel=rbf .....................................\n",
      "[CV] ......... C=10, gamma=0.1, kernel=rbf, score=0.656, total=   0.0s\n",
      "[CV] C=10, gamma=0.01, kernel=rbf ....................................\n",
      "[CV] ........ C=10, gamma=0.01, kernel=rbf, score=0.659, total=   0.0s\n",
      "[CV] C=10, gamma=0.01, kernel=rbf ....................................\n",
      "[CV] ........ C=10, gamma=0.01, kernel=rbf, score=0.659, total=   0.0s\n",
      "[CV] C=10, gamma=0.01, kernel=rbf ....................................\n",
      "[CV] ........ C=10, gamma=0.01, kernel=rbf, score=0.659, total=   0.0s\n",
      "[CV] C=10, gamma=0.01, kernel=rbf ....................................\n",
      "[CV] ........ C=10, gamma=0.01, kernel=rbf, score=0.626, total=   0.0s\n",
      "[CV] C=10, gamma=0.01, kernel=rbf ....................................\n",
      "[CV] ........ C=10, gamma=0.01, kernel=rbf, score=0.680, total=   0.0s\n",
      "[CV] C=10, gamma=0.001, kernel=rbf ...................................\n",
      "[CV] ....... C=10, gamma=0.001, kernel=rbf, score=0.740, total=   0.0s\n",
      "[CV] C=10, gamma=0.001, kernel=rbf ...................................\n",
      "[CV] ....... C=10, gamma=0.001, kernel=rbf, score=0.748, total=   0.0s\n",
      "[CV] C=10, gamma=0.001, kernel=rbf ...................................\n",
      "[CV] ....... C=10, gamma=0.001, kernel=rbf, score=0.715, total=   0.0s\n",
      "[CV] C=10, gamma=0.001, kernel=rbf ...................................\n",
      "[CV] ....... C=10, gamma=0.001, kernel=rbf, score=0.699, total=   0.0s\n",
      "[CV] C=10, gamma=0.001, kernel=rbf ...................................\n",
      "[CV] ....... C=10, gamma=0.001, kernel=rbf, score=0.746, total=   0.0s\n",
      "[CV] C=10, gamma=0.0001, kernel=rbf ..................................\n",
      "[CV] ...... C=10, gamma=0.0001, kernel=rbf, score=0.772, total=   0.0s\n",
      "[CV] C=10, gamma=0.0001, kernel=rbf ..................................\n",
      "[CV] ...... C=10, gamma=0.0001, kernel=rbf, score=0.772, total=   0.0s\n",
      "[CV] C=10, gamma=0.0001, kernel=rbf ..................................\n",
      "[CV] ...... C=10, gamma=0.0001, kernel=rbf, score=0.740, total=   0.0s\n",
      "[CV] C=10, gamma=0.0001, kernel=rbf ..................................\n",
      "[CV] ...... C=10, gamma=0.0001, kernel=rbf, score=0.732, total=   0.0s\n",
      "[CV] C=10, gamma=0.0001, kernel=rbf ..................................\n",
      "[CV] ...... C=10, gamma=0.0001, kernel=rbf, score=0.770, total=   0.0s\n",
      "[CV] C=100, gamma=1, kernel=rbf ......................................\n",
      "[CV] .......... C=100, gamma=1, kernel=rbf, score=0.650, total=   0.0s\n",
      "[CV] C=100, gamma=1, kernel=rbf ......................................\n",
      "[CV] .......... C=100, gamma=1, kernel=rbf, score=0.650, total=   0.0s\n",
      "[CV] C=100, gamma=1, kernel=rbf ......................................\n",
      "[CV] .......... C=100, gamma=1, kernel=rbf, score=0.650, total=   0.0s\n",
      "[CV] C=100, gamma=1, kernel=rbf ......................................\n",
      "[CV] .......... C=100, gamma=1, kernel=rbf, score=0.650, total=   0.0s\n",
      "[CV] C=100, gamma=1, kernel=rbf ......................................\n",
      "[CV] .......... C=100, gamma=1, kernel=rbf, score=0.656, total=   0.0s\n",
      "[CV] C=100, gamma=0.1, kernel=rbf ....................................\n",
      "[CV] ........ C=100, gamma=0.1, kernel=rbf, score=0.650, total=   0.0s\n",
      "[CV] C=100, gamma=0.1, kernel=rbf ....................................\n",
      "[CV] ........ C=100, gamma=0.1, kernel=rbf, score=0.650, total=   0.0s\n",
      "[CV] C=100, gamma=0.1, kernel=rbf ....................................\n",
      "[CV] ........ C=100, gamma=0.1, kernel=rbf, score=0.650, total=   0.0s\n",
      "[CV] C=100, gamma=0.1, kernel=rbf ....................................\n",
      "[CV] ........ C=100, gamma=0.1, kernel=rbf, score=0.650, total=   0.0s\n",
      "[CV] C=100, gamma=0.1, kernel=rbf ....................................\n",
      "[CV] ........ C=100, gamma=0.1, kernel=rbf, score=0.656, total=   0.0s\n",
      "[CV] C=100, gamma=0.01, kernel=rbf ...................................\n",
      "[CV] ....... C=100, gamma=0.01, kernel=rbf, score=0.659, total=   0.0s\n",
      "[CV] C=100, gamma=0.01, kernel=rbf ...................................\n",
      "[CV] ....... C=100, gamma=0.01, kernel=rbf, score=0.659, total=   0.0s\n",
      "[CV] C=100, gamma=0.01, kernel=rbf ...................................\n",
      "[CV] ....... C=100, gamma=0.01, kernel=rbf, score=0.659, total=   0.0s\n",
      "[CV] C=100, gamma=0.01, kernel=rbf ...................................\n",
      "[CV] ....... C=100, gamma=0.01, kernel=rbf, score=0.626, total=   0.0s\n",
      "[CV] C=100, gamma=0.01, kernel=rbf ...................................\n",
      "[CV] ....... C=100, gamma=0.01, kernel=rbf, score=0.680, total=   0.0s\n",
      "[CV] C=100, gamma=0.001, kernel=rbf ..................................\n",
      "[CV] ...... C=100, gamma=0.001, kernel=rbf, score=0.683, total=   0.0s\n",
      "[CV] C=100, gamma=0.001, kernel=rbf ..................................\n",
      "[CV] ...... C=100, gamma=0.001, kernel=rbf, score=0.675, total=   0.0s\n",
      "[CV] C=100, gamma=0.001, kernel=rbf ..................................\n",
      "[CV] ...... C=100, gamma=0.001, kernel=rbf, score=0.626, total=   0.0s\n",
      "[CV] C=100, gamma=0.001, kernel=rbf ..................................\n",
      "[CV] ...... C=100, gamma=0.001, kernel=rbf, score=0.691, total=   0.0s\n",
      "[CV] C=100, gamma=0.001, kernel=rbf ..................................\n",
      "[CV] ...... C=100, gamma=0.001, kernel=rbf, score=0.746, total=   0.0s\n",
      "[CV] C=100, gamma=0.0001, kernel=rbf .................................\n",
      "[CV] ..... C=100, gamma=0.0001, kernel=rbf, score=0.732, total=   0.0s\n",
      "[CV] C=100, gamma=0.0001, kernel=rbf .................................\n",
      "[CV] ..... C=100, gamma=0.0001, kernel=rbf, score=0.797, total=   0.0s\n",
      "[CV] C=100, gamma=0.0001, kernel=rbf .................................\n",
      "[CV] ..... C=100, gamma=0.0001, kernel=rbf, score=0.715, total=   0.0s\n",
      "[CV] C=100, gamma=0.0001, kernel=rbf .................................\n",
      "[CV] ..... C=100, gamma=0.0001, kernel=rbf, score=0.715, total=   0.0s\n",
      "[CV] C=100, gamma=0.0001, kernel=rbf .................................\n",
      "[CV] ..... C=100, gamma=0.0001, kernel=rbf, score=0.779, total=   0.0s\n",
      "[CV] C=1000, gamma=1, kernel=rbf .....................................\n",
      "[CV] ......... C=1000, gamma=1, kernel=rbf, score=0.650, total=   0.0s\n",
      "[CV] C=1000, gamma=1, kernel=rbf .....................................\n",
      "[CV] ......... C=1000, gamma=1, kernel=rbf, score=0.650, total=   0.0s\n",
      "[CV] C=1000, gamma=1, kernel=rbf .....................................\n",
      "[CV] ......... C=1000, gamma=1, kernel=rbf, score=0.650, total=   0.0s\n",
      "[CV] C=1000, gamma=1, kernel=rbf .....................................\n",
      "[CV] ......... C=1000, gamma=1, kernel=rbf, score=0.650, total=   0.0s\n",
      "[CV] C=1000, gamma=1, kernel=rbf .....................................\n",
      "[CV] ......... C=1000, gamma=1, kernel=rbf, score=0.656, total=   0.0s\n",
      "[CV] C=1000, gamma=0.1, kernel=rbf ...................................\n",
      "[CV] ....... C=1000, gamma=0.1, kernel=rbf, score=0.650, total=   0.0s\n",
      "[CV] C=1000, gamma=0.1, kernel=rbf ...................................\n",
      "[CV] ....... C=1000, gamma=0.1, kernel=rbf, score=0.650, total=   0.0s\n",
      "[CV] C=1000, gamma=0.1, kernel=rbf ...................................\n",
      "[CV] ....... C=1000, gamma=0.1, kernel=rbf, score=0.650, total=   0.0s\n",
      "[CV] C=1000, gamma=0.1, kernel=rbf ...................................\n",
      "[CV] ....... C=1000, gamma=0.1, kernel=rbf, score=0.650, total=   0.0s\n",
      "[CV] C=1000, gamma=0.1, kernel=rbf ...................................\n",
      "[CV] ....... C=1000, gamma=0.1, kernel=rbf, score=0.656, total=   0.0s\n",
      "[CV] C=1000, gamma=0.01, kernel=rbf ..................................\n",
      "[CV] ...... C=1000, gamma=0.01, kernel=rbf, score=0.659, total=   0.0s\n",
      "[CV] C=1000, gamma=0.01, kernel=rbf ..................................\n",
      "[CV] ...... C=1000, gamma=0.01, kernel=rbf, score=0.659, total=   0.0s\n",
      "[CV] C=1000, gamma=0.01, kernel=rbf ..................................\n",
      "[CV] ...... C=1000, gamma=0.01, kernel=rbf, score=0.659, total=   0.0s\n",
      "[CV] C=1000, gamma=0.01, kernel=rbf ..................................\n",
      "[CV] ...... C=1000, gamma=0.01, kernel=rbf, score=0.626, total=   0.0s\n",
      "[CV] C=1000, gamma=0.01, kernel=rbf ..................................\n",
      "[CV] ...... C=1000, gamma=0.01, kernel=rbf, score=0.680, total=   0.0s\n",
      "[CV] C=1000, gamma=0.001, kernel=rbf .................................\n",
      "[CV] ..... C=1000, gamma=0.001, kernel=rbf, score=0.683, total=   0.0s\n",
      "[CV] C=1000, gamma=0.001, kernel=rbf .................................\n",
      "[CV] ..... C=1000, gamma=0.001, kernel=rbf, score=0.699, total=   0.0s\n",
      "[CV] C=1000, gamma=0.001, kernel=rbf .................................\n",
      "[CV] ..... C=1000, gamma=0.001, kernel=rbf, score=0.634, total=   0.0s\n",
      "[CV] C=1000, gamma=0.001, kernel=rbf .................................\n",
      "[CV] ..... C=1000, gamma=0.001, kernel=rbf, score=0.659, total=   0.0s\n",
      "[CV] C=1000, gamma=0.001, kernel=rbf .................................\n",
      "[CV] ..... C=1000, gamma=0.001, kernel=rbf, score=0.680, total=   0.0s\n",
      "[CV] C=1000, gamma=0.0001, kernel=rbf ................................\n",
      "[CV] .... C=1000, gamma=0.0001, kernel=rbf, score=0.732, total=   0.1s\n",
      "[CV] C=1000, gamma=0.0001, kernel=rbf ................................\n",
      "[CV] .... C=1000, gamma=0.0001, kernel=rbf, score=0.756, total=   0.1s\n",
      "[CV] C=1000, gamma=0.0001, kernel=rbf ................................\n",
      "[CV] .... C=1000, gamma=0.0001, kernel=rbf, score=0.667, total=   0.1s\n",
      "[CV] C=1000, gamma=0.0001, kernel=rbf ................................\n",
      "[CV] .... C=1000, gamma=0.0001, kernel=rbf, score=0.724, total=   0.1s\n",
      "[CV] C=1000, gamma=0.0001, kernel=rbf ................................\n",
      "[CV] .... C=1000, gamma=0.0001, kernel=rbf, score=0.754, total=   0.1s\n"
     ]
    },
    {
     "name": "stderr",
     "output_type": "stream",
     "text": [
      "[Parallel(n_jobs=1)]: Done 125 out of 125 | elapsed:    2.8s finished\n"
     ]
    },
    {
     "data": {
      "text/plain": [
       "GridSearchCV(estimator=SVC(),\n",
       "             param_grid={'C': [0.1, 1, 10, 100, 1000],\n",
       "                         'gamma': [1, 0.1, 0.01, 0.001, 0.0001],\n",
       "                         'kernel': ['rbf']},\n",
       "             verbose=3)"
      ]
     },
     "execution_count": 18,
     "metadata": {},
     "output_type": "execute_result"
    }
   ],
   "source": [
    "# defining parameter range\n",
    "param_grid = {'C': [0.1, 1, 10, 100, 1000], \n",
    "              'gamma': [1, 0.1, 0.01, 0.001, 0.0001],\n",
    "              'kernel': ['rbf']} \n",
    "  \n",
    "grid = GridSearchCV(SVC(), param_grid, refit = True, verbose = 3)\n",
    "  \n",
    "# fitting the model for grid search\n",
    "grid.fit(X_train, Y_train)"
   ]
  },
  {
   "cell_type": "code",
   "execution_count": 19,
   "id": "7872b54b",
   "metadata": {
    "execution": {
     "iopub.execute_input": "2021-11-03T14:56:15.189431Z",
     "iopub.status.busy": "2021-11-03T14:56:15.188750Z",
     "iopub.status.idle": "2021-11-03T14:56:15.193245Z",
     "shell.execute_reply": "2021-11-03T14:56:15.192633Z",
     "shell.execute_reply.started": "2021-11-03T14:45:05.299569Z"
    },
    "papermill": {
     "duration": 0.052027,
     "end_time": "2021-11-03T14:56:15.193387",
     "exception": false,
     "start_time": "2021-11-03T14:56:15.141360",
     "status": "completed"
    },
    "tags": []
   },
   "outputs": [
    {
     "name": "stdout",
     "output_type": "stream",
     "text": [
      "{'C': 1, 'gamma': 0.0001, 'kernel': 'rbf'}\n",
      "SVC(C=1, gamma=0.0001)\n"
     ]
    }
   ],
   "source": [
    "# print best parameter after tuning\n",
    "print(grid.best_params_)\n",
    "  \n",
    "# print how our model looks after hyper-parameter tuning\n",
    "print(grid.best_estimator_)"
   ]
  },
  {
   "cell_type": "code",
   "execution_count": 20,
   "id": "1dcfbaa6",
   "metadata": {
    "execution": {
     "iopub.execute_input": "2021-11-03T14:56:15.284565Z",
     "iopub.status.busy": "2021-11-03T14:56:15.283679Z",
     "iopub.status.idle": "2021-11-03T14:56:15.299554Z",
     "shell.execute_reply": "2021-11-03T14:56:15.298884Z",
     "shell.execute_reply.started": "2021-11-03T14:45:45.979420Z"
    },
    "papermill": {
     "duration": 0.064497,
     "end_time": "2021-11-03T14:56:15.299693",
     "exception": false,
     "start_time": "2021-11-03T14:56:15.235196",
     "status": "completed"
    },
    "tags": []
   },
   "outputs": [
    {
     "data": {
      "text/plain": [
       "SVC(C=1, gamma=0.0001)"
      ]
     },
     "execution_count": 20,
     "metadata": {},
     "output_type": "execute_result"
    }
   ],
   "source": [
    "SVM =SVC(C=1, gamma=0.0001)\n",
    "SVM.fit(X_train,Y_train)"
   ]
  },
  {
   "cell_type": "code",
   "execution_count": 21,
   "id": "fc09b998",
   "metadata": {
    "execution": {
     "iopub.execute_input": "2021-11-03T14:56:15.389714Z",
     "iopub.status.busy": "2021-11-03T14:56:15.389071Z",
     "iopub.status.idle": "2021-11-03T14:56:15.392758Z",
     "shell.execute_reply": "2021-11-03T14:56:15.393404Z",
     "shell.execute_reply.started": "2021-11-03T14:46:13.433480Z"
    },
    "papermill": {
     "duration": 0.052004,
     "end_time": "2021-11-03T14:56:15.393571",
     "exception": false,
     "start_time": "2021-11-03T14:56:15.341567",
     "status": "completed"
    },
    "tags": []
   },
   "outputs": [],
   "source": [
    "pred = SVM.predict(X_test)"
   ]
  },
  {
   "cell_type": "code",
   "execution_count": 22,
   "id": "eb1cf330",
   "metadata": {
    "execution": {
     "iopub.execute_input": "2021-11-03T14:56:15.480178Z",
     "iopub.status.busy": "2021-11-03T14:56:15.479564Z",
     "iopub.status.idle": "2021-11-03T14:56:15.484329Z",
     "shell.execute_reply": "2021-11-03T14:56:15.484870Z",
     "shell.execute_reply.started": "2021-11-03T14:47:42.767075Z"
    },
    "papermill": {
     "duration": 0.049624,
     "end_time": "2021-11-03T14:56:15.485054",
     "exception": false,
     "start_time": "2021-11-03T14:56:15.435430",
     "status": "completed"
    },
    "tags": []
   },
   "outputs": [
    {
     "name": "stdout",
     "output_type": "stream",
     "text": [
      "Accuracy: 72.72727272727273\n"
     ]
    }
   ],
   "source": [
    "print(\"Accuracy:\",metrics.accuracy_score(Y_test, pred) * 100)"
   ]
  },
  {
   "cell_type": "markdown",
   "id": "7e83bb23",
   "metadata": {
    "papermill": {
     "duration": 0.042413,
     "end_time": "2021-11-03T14:56:15.570043",
     "exception": false,
     "start_time": "2021-11-03T14:56:15.527630",
     "status": "completed"
    },
    "tags": []
   },
   "source": [
    "# ****KNN****"
   ]
  },
  {
   "cell_type": "code",
   "execution_count": 23,
   "id": "66839d18",
   "metadata": {
    "execution": {
     "iopub.execute_input": "2021-11-03T14:56:15.657829Z",
     "iopub.status.busy": "2021-11-03T14:56:15.657201Z",
     "iopub.status.idle": "2021-11-03T14:56:15.666151Z",
     "shell.execute_reply": "2021-11-03T14:56:15.666731Z",
     "shell.execute_reply.started": "2021-11-03T14:50:06.218446Z"
    },
    "papermill": {
     "duration": 0.05467,
     "end_time": "2021-11-03T14:56:15.666897",
     "exception": false,
     "start_time": "2021-11-03T14:56:15.612227",
     "status": "completed"
    },
    "tags": []
   },
   "outputs": [
    {
     "data": {
      "text/plain": [
       "KNeighborsClassifier()"
      ]
     },
     "execution_count": 23,
     "metadata": {},
     "output_type": "execute_result"
    }
   ],
   "source": [
    "classifier= KNeighborsClassifier(n_neighbors=5)\n",
    "classifier.fit(X_train,Y_train)"
   ]
  },
  {
   "cell_type": "code",
   "execution_count": 24,
   "id": "3beccaa8",
   "metadata": {
    "execution": {
     "iopub.execute_input": "2021-11-03T14:56:15.815674Z",
     "iopub.status.busy": "2021-11-03T14:56:15.815018Z",
     "iopub.status.idle": "2021-11-03T14:56:15.826805Z",
     "shell.execute_reply": "2021-11-03T14:56:15.827374Z",
     "shell.execute_reply.started": "2021-11-03T14:50:27.486732Z"
    },
    "papermill": {
     "duration": 0.058742,
     "end_time": "2021-11-03T14:56:15.827549",
     "exception": false,
     "start_time": "2021-11-03T14:56:15.768807",
     "status": "completed"
    },
    "tags": []
   },
   "outputs": [],
   "source": [
    "pred = classifier.predict(X_test)"
   ]
  },
  {
   "cell_type": "code",
   "execution_count": 25,
   "id": "8fe70ce4",
   "metadata": {
    "execution": {
     "iopub.execute_input": "2021-11-03T14:56:15.916683Z",
     "iopub.status.busy": "2021-11-03T14:56:15.916033Z",
     "iopub.status.idle": "2021-11-03T14:56:15.921120Z",
     "shell.execute_reply": "2021-11-03T14:56:15.921632Z",
     "shell.execute_reply.started": "2021-11-03T14:50:49.294916Z"
    },
    "papermill": {
     "duration": 0.051614,
     "end_time": "2021-11-03T14:56:15.921800",
     "exception": false,
     "start_time": "2021-11-03T14:56:15.870186",
     "status": "completed"
    },
    "tags": []
   },
   "outputs": [
    {
     "name": "stdout",
     "output_type": "stream",
     "text": [
      "Accuracy: 66.88311688311688\n"
     ]
    }
   ],
   "source": [
    "print(\"Accuracy:\",metrics.accuracy_score(Y_test,pred ) * 100)"
   ]
  },
  {
   "cell_type": "markdown",
   "id": "452cf23f",
   "metadata": {
    "papermill": {
     "duration": 0.043423,
     "end_time": "2021-11-03T14:56:16.009331",
     "exception": false,
     "start_time": "2021-11-03T14:56:15.965908",
     "status": "completed"
    },
    "tags": []
   },
   "source": [
    "# ****Decision Tree Classifier****"
   ]
  },
  {
   "cell_type": "code",
   "execution_count": 26,
   "id": "5cd790e7",
   "metadata": {
    "execution": {
     "iopub.execute_input": "2021-11-03T14:56:16.100320Z",
     "iopub.status.busy": "2021-11-03T14:56:16.099631Z",
     "iopub.status.idle": "2021-11-03T14:56:16.102268Z",
     "shell.execute_reply": "2021-11-03T14:56:16.101642Z",
     "shell.execute_reply.started": "2021-11-03T14:52:06.327269Z"
    },
    "papermill": {
     "duration": 0.050201,
     "end_time": "2021-11-03T14:56:16.102396",
     "exception": false,
     "start_time": "2021-11-03T14:56:16.052195",
     "status": "completed"
    },
    "tags": []
   },
   "outputs": [],
   "source": [
    "DecisionTree = DecisionTreeClassifier(random_state=0)"
   ]
  },
  {
   "cell_type": "code",
   "execution_count": 27,
   "id": "6fee8b78",
   "metadata": {
    "execution": {
     "iopub.execute_input": "2021-11-03T14:56:16.193264Z",
     "iopub.status.busy": "2021-11-03T14:56:16.192588Z",
     "iopub.status.idle": "2021-11-03T14:56:16.203196Z",
     "shell.execute_reply": "2021-11-03T14:56:16.203666Z",
     "shell.execute_reply.started": "2021-11-03T14:52:21.769702Z"
    },
    "papermill": {
     "duration": 0.058335,
     "end_time": "2021-11-03T14:56:16.203838",
     "exception": false,
     "start_time": "2021-11-03T14:56:16.145503",
     "status": "completed"
    },
    "tags": []
   },
   "outputs": [
    {
     "data": {
      "text/plain": [
       "DecisionTreeClassifier(random_state=0)"
      ]
     },
     "execution_count": 27,
     "metadata": {},
     "output_type": "execute_result"
    }
   ],
   "source": [
    "DecisionTree.fit(X_train,Y_train)"
   ]
  },
  {
   "cell_type": "code",
   "execution_count": 28,
   "id": "09af2b39",
   "metadata": {
    "execution": {
     "iopub.execute_input": "2021-11-03T14:56:16.293903Z",
     "iopub.status.busy": "2021-11-03T14:56:16.293290Z",
     "iopub.status.idle": "2021-11-03T14:56:16.298245Z",
     "shell.execute_reply": "2021-11-03T14:56:16.298807Z",
     "shell.execute_reply.started": "2021-11-03T14:52:48.816644Z"
    },
    "papermill": {
     "duration": 0.05148,
     "end_time": "2021-11-03T14:56:16.298975",
     "exception": false,
     "start_time": "2021-11-03T14:56:16.247495",
     "status": "completed"
    },
    "tags": []
   },
   "outputs": [],
   "source": [
    "pred = DecisionTree.predict(X_test)"
   ]
  },
  {
   "cell_type": "code",
   "execution_count": 29,
   "id": "515b4214",
   "metadata": {
    "execution": {
     "iopub.execute_input": "2021-11-03T14:56:16.388750Z",
     "iopub.status.busy": "2021-11-03T14:56:16.388129Z",
     "iopub.status.idle": "2021-11-03T14:56:16.393839Z",
     "shell.execute_reply": "2021-11-03T14:56:16.393139Z",
     "shell.execute_reply.started": "2021-11-03T14:53:08.597196Z"
    },
    "papermill": {
     "duration": 0.051556,
     "end_time": "2021-11-03T14:56:16.394060",
     "exception": false,
     "start_time": "2021-11-03T14:56:16.342504",
     "status": "completed"
    },
    "tags": []
   },
   "outputs": [
    {
     "name": "stdout",
     "output_type": "stream",
     "text": [
      "Accuracy: 73.37662337662337\n"
     ]
    }
   ],
   "source": [
    "print(\"Accuracy:\",metrics.accuracy_score(Y_test,pred ) * 100 )"
   ]
  },
  {
   "cell_type": "code",
   "execution_count": 30,
   "id": "eb58b95c",
   "metadata": {
    "execution": {
     "iopub.execute_input": "2021-11-03T14:56:16.499697Z",
     "iopub.status.busy": "2021-11-03T14:56:16.486917Z",
     "iopub.status.idle": "2021-11-03T14:56:26.348472Z",
     "shell.execute_reply": "2021-11-03T14:56:26.347891Z",
     "shell.execute_reply.started": "2021-11-03T14:54:36.148611Z"
    },
    "papermill": {
     "duration": 9.909874,
     "end_time": "2021-11-03T14:56:26.348627",
     "exception": false,
     "start_time": "2021-11-03T14:56:16.438753",
     "status": "completed"
    },
    "tags": []
   },
   "outputs": [
    {
     "name": "stdout",
     "output_type": "stream",
     "text": [
      "Requirement already satisfied: graphviz in /opt/conda/lib/python3.7/site-packages (0.8.4)\r\n",
      "\u001b[33mWARNING: Running pip as the 'root' user can result in broken permissions and conflicting behaviour with the system package manager. It is recommended to use a virtual environment instead: https://pip.pypa.io/warnings/venv\u001b[0m\r\n"
     ]
    }
   ],
   "source": [
    "!pip install graphviz"
   ]
  },
  {
   "cell_type": "code",
   "execution_count": 31,
   "id": "ef544a35",
   "metadata": {
    "execution": {
     "iopub.execute_input": "2021-11-03T14:56:26.446177Z",
     "iopub.status.busy": "2021-11-03T14:56:26.445467Z",
     "iopub.status.idle": "2021-11-03T14:56:26.449774Z",
     "shell.execute_reply": "2021-11-03T14:56:26.449180Z",
     "shell.execute_reply.started": "2021-11-03T14:55:04.873377Z"
    },
    "papermill": {
     "duration": 0.056428,
     "end_time": "2021-11-03T14:56:26.449922",
     "exception": false,
     "start_time": "2021-11-03T14:56:26.393494",
     "status": "completed"
    },
    "tags": []
   },
   "outputs": [],
   "source": [
    "tree= tree.export_graphviz(DecisionTree,out_file='tree.dot',feature_names=X_train.columns,max_depth=3,filled=True)"
   ]
  },
  {
   "cell_type": "code",
   "execution_count": 32,
   "id": "e76b113c",
   "metadata": {
    "execution": {
     "iopub.execute_input": "2021-11-03T14:56:26.549862Z",
     "iopub.status.busy": "2021-11-03T14:56:26.549195Z",
     "iopub.status.idle": "2021-11-03T14:56:28.207879Z",
     "shell.execute_reply": "2021-11-03T14:56:28.207292Z",
     "shell.execute_reply.started": "2021-11-03T14:55:09.043535Z"
    },
    "papermill": {
     "duration": 1.713725,
     "end_time": "2021-11-03T14:56:28.208036",
     "exception": false,
     "start_time": "2021-11-03T14:56:26.494311",
     "status": "completed"
    },
    "tags": []
   },
   "outputs": [],
   "source": [
    "!dot -Tpng tree.dot -o tree.png"
   ]
  },
  {
   "cell_type": "code",
   "execution_count": 33,
   "id": "c97b9dac",
   "metadata": {
    "execution": {
     "iopub.execute_input": "2021-11-03T14:56:28.303792Z",
     "iopub.status.busy": "2021-11-03T14:56:28.302862Z",
     "iopub.status.idle": "2021-11-03T14:56:28.871072Z",
     "shell.execute_reply": "2021-11-03T14:56:28.871607Z",
     "shell.execute_reply.started": "2021-11-03T14:55:23.802224Z"
    },
    "papermill": {
     "duration": 0.619241,
     "end_time": "2021-11-03T14:56:28.871776",
     "exception": false,
     "start_time": "2021-11-03T14:56:28.252535",
     "status": "completed"
    },
    "tags": []
   },
   "outputs": [
    {
     "data": {
      "text/plain": [
       "<matplotlib.image.AxesImage at 0x7fa64bb2c390>"
      ]
     },
     "execution_count": 33,
     "metadata": {},
     "output_type": "execute_result"
    },
    {
     "data": {
      "image/png": "[encoded data removed]",
      "text/plain": [
       "<Figure size 1080x1080 with 1 Axes>"
      ]
     },
     "metadata": {
      "needs_background": "light"
     },
     "output_type": "display_data"
    }
   ],
   "source": [
    "image=plt.imread('tree.png')\n",
    "plt.figure(figsize=(15,15))\n",
    "plt.imshow(image)"
   ]
  }
 ],
 "metadata": {
  "kernelspec": {
   "display_name": "Python 3",
   "language": "python",
   "name": "python3"
  },
  "language_info": {
   "codemirror_mode": {
    "name": "ipython",
    "version": 3
   },
   "file_extension": ".py",
   "mimetype": "text/x-python",
   "name": "python",
   "nbconvert_exporter": "python",
   "pygments_lexer": "ipython3",
   "version": "3.7.10"
  },
  "papermill": {
   "default_parameters": {},
   "duration": 30.449313,
   "end_time": "2021-11-03T14:56:29.631025",
   "environment_variables": {},
   "exception": null,
   "input_path": "__notebook__.ipynb",
   "output_path": "__notebook__.ipynb",
   "parameters": {},
   "start_time": "2021-11-03T14:55:59.181712",
   "version": "2.3.3"
  }
 },
 "nbformat": 4,
 "nbformat_minor": 5
}
